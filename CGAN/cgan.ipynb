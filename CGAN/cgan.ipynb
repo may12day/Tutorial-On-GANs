{
  "nbformat": 4,
  "nbformat_minor": 0,
  "metadata": {
    "colab": {
      "name": "cgan.ipynb",
      "version": "0.3.2",
      "provenance": [],
      "collapsed_sections": []
    },
    "kernelspec": {
      "name": "python3",
      "display_name": "Python 3"
    },
    "accelerator": "GPU"
  },
  "cells": [
    {
      "cell_type": "code",
      "metadata": {
        "id": "z9POI65zmn_R",
        "colab_type": "code",
        "colab": {}
      },
      "source": [
        "import numpy as np\n",
        "import tensorflow as tf\n",
        "import matplotlib.pyplot as plt"
      ],
      "execution_count": 0,
      "outputs": []
    },
    {
      "cell_type": "code",
      "metadata": {
        "id": "WudYpy-OmxeE",
        "colab_type": "code",
        "colab": {
          "base_uri": "https://localhost:8080/",
          "height": 799
        },
        "outputId": "4f08f40e-7b12-483a-b4f8-0e80fe9079dd"
      },
      "source": [
        "!wget http://fashion-mnist.s3-website.eu-central-1.amazonaws.com/train-images-idx3-ubyte.gz\n",
        "!wget http://fashion-mnist.s3-website.eu-central-1.amazonaws.com/train-labels-idx1-ubyte.gz\n",
        "!wget http://fashion-mnist.s3-website.eu-central-1.amazonaws.com/t10k-images-idx3-ubyte.gz\n",
        "!wget http://fashion-mnist.s3-website.eu-central-1.amazonaws.com/t10k-labels-idx1-ubyte.gz"
      ],
      "execution_count": 2,
      "outputs": [
        {
          "output_type": "stream",
          "text": [
            "--2019-06-11 08:16:47--  http://fashion-mnist.s3-website.eu-central-1.amazonaws.com/train-images-idx3-ubyte.gz\n",
            "Resolving fashion-mnist.s3-website.eu-central-1.amazonaws.com (fashion-mnist.s3-website.eu-central-1.amazonaws.com)... 52.219.74.118\n",
            "Connecting to fashion-mnist.s3-website.eu-central-1.amazonaws.com (fashion-mnist.s3-website.eu-central-1.amazonaws.com)|52.219.74.118|:80... connected.\n",
            "HTTP request sent, awaiting response... 200 OK\n",
            "Length: 26421880 (25M) [binary/octet-stream]\n",
            "Saving to: ‘train-images-idx3-ubyte.gz’\n",
            "\n",
            "train-images-idx3-u 100%[===================>]  25.20M  15.9MB/s    in 1.6s    \n",
            "\n",
            "2019-06-11 08:16:49 (15.9 MB/s) - ‘train-images-idx3-ubyte.gz’ saved [26421880/26421880]\n",
            "\n",
            "--2019-06-11 08:16:51--  http://fashion-mnist.s3-website.eu-central-1.amazonaws.com/train-labels-idx1-ubyte.gz\n",
            "Resolving fashion-mnist.s3-website.eu-central-1.amazonaws.com (fashion-mnist.s3-website.eu-central-1.amazonaws.com)... 52.219.72.74\n",
            "Connecting to fashion-mnist.s3-website.eu-central-1.amazonaws.com (fashion-mnist.s3-website.eu-central-1.amazonaws.com)|52.219.72.74|:80... connected.\n",
            "HTTP request sent, awaiting response... 200 OK\n",
            "Length: 29515 (29K) [binary/octet-stream]\n",
            "Saving to: ‘train-labels-idx1-ubyte.gz’\n",
            "\n",
            "train-labels-idx1-u 100%[===================>]  28.82K  --.-KB/s    in 0.1s    \n",
            "\n",
            "2019-06-11 08:16:52 (274 KB/s) - ‘train-labels-idx1-ubyte.gz’ saved [29515/29515]\n",
            "\n",
            "--2019-06-11 08:16:53--  http://fashion-mnist.s3-website.eu-central-1.amazonaws.com/t10k-images-idx3-ubyte.gz\n",
            "Resolving fashion-mnist.s3-website.eu-central-1.amazonaws.com (fashion-mnist.s3-website.eu-central-1.amazonaws.com)... 52.219.72.74\n",
            "Connecting to fashion-mnist.s3-website.eu-central-1.amazonaws.com (fashion-mnist.s3-website.eu-central-1.amazonaws.com)|52.219.72.74|:80... connected.\n",
            "HTTP request sent, awaiting response... 200 OK\n",
            "Length: 4422102 (4.2M) [binary/octet-stream]\n",
            "Saving to: ‘t10k-images-idx3-ubyte.gz’\n",
            "\n",
            "t10k-images-idx3-ub 100%[===================>]   4.22M  5.01MB/s    in 0.8s    \n",
            "\n",
            "2019-06-11 08:16:54 (5.01 MB/s) - ‘t10k-images-idx3-ubyte.gz’ saved [4422102/4422102]\n",
            "\n",
            "--2019-06-11 08:16:56--  http://fashion-mnist.s3-website.eu-central-1.amazonaws.com/t10k-labels-idx1-ubyte.gz\n",
            "Resolving fashion-mnist.s3-website.eu-central-1.amazonaws.com (fashion-mnist.s3-website.eu-central-1.amazonaws.com)... 52.219.74.66\n",
            "Connecting to fashion-mnist.s3-website.eu-central-1.amazonaws.com (fashion-mnist.s3-website.eu-central-1.amazonaws.com)|52.219.74.66|:80... connected.\n",
            "HTTP request sent, awaiting response... 200 OK\n",
            "Length: 5148 (5.0K) [binary/octet-stream]\n",
            "Saving to: ‘t10k-labels-idx1-ubyte.gz’\n",
            "\n",
            "t10k-labels-idx1-ub 100%[===================>]   5.03K  --.-KB/s    in 0s      \n",
            "\n",
            "2019-06-11 08:16:56 (440 MB/s) - ‘t10k-labels-idx1-ubyte.gz’ saved [5148/5148]\n",
            "\n"
          ],
          "name": "stdout"
        }
      ]
    },
    {
      "cell_type": "code",
      "metadata": {
        "id": "wicXy7QxmyMm",
        "colab_type": "code",
        "colab": {}
      },
      "source": [
        "!mkdir MNIST_Fashion\n",
        "!cp *.gz MNIST_Fashion/"
      ],
      "execution_count": 0,
      "outputs": []
    },
    {
      "cell_type": "code",
      "metadata": {
        "id": "5dzvLQ0Dm1ts",
        "colab_type": "code",
        "colab": {
          "base_uri": "https://localhost:8080/",
          "height": 428
        },
        "outputId": "4d6c9372-3f0b-4e49-a75b-7b06c2d79740"
      },
      "source": [
        "from tensorflow.examples.tutorials.mnist import input_data\n",
        "# For CGAN\n",
        "mnist= input_data.read_data_sets(\"MNIST_Fashion/\",one_hot= True)"
      ],
      "execution_count": 4,
      "outputs": [
        {
          "output_type": "stream",
          "text": [
            "WARNING:tensorflow:From <ipython-input-4-1a1d8817b01c>:3: read_data_sets (from tensorflow.contrib.learn.python.learn.datasets.mnist) is deprecated and will be removed in a future version.\n",
            "Instructions for updating:\n",
            "Please use alternatives such as official/mnist/dataset.py from tensorflow/models.\n",
            "WARNING:tensorflow:From /usr/local/lib/python3.6/dist-packages/tensorflow/contrib/learn/python/learn/datasets/mnist.py:260: maybe_download (from tensorflow.contrib.learn.python.learn.datasets.base) is deprecated and will be removed in a future version.\n",
            "Instructions for updating:\n",
            "Please write your own downloading logic.\n",
            "WARNING:tensorflow:From /usr/local/lib/python3.6/dist-packages/tensorflow/contrib/learn/python/learn/datasets/mnist.py:262: extract_images (from tensorflow.contrib.learn.python.learn.datasets.mnist) is deprecated and will be removed in a future version.\n",
            "Instructions for updating:\n",
            "Please use tf.data to implement this functionality.\n",
            "Extracting MNIST_Fashion/train-images-idx3-ubyte.gz\n",
            "WARNING:tensorflow:From /usr/local/lib/python3.6/dist-packages/tensorflow/contrib/learn/python/learn/datasets/mnist.py:267: extract_labels (from tensorflow.contrib.learn.python.learn.datasets.mnist) is deprecated and will be removed in a future version.\n",
            "Instructions for updating:\n",
            "Please use tf.data to implement this functionality.\n",
            "Extracting MNIST_Fashion/train-labels-idx1-ubyte.gz\n",
            "WARNING:tensorflow:From /usr/local/lib/python3.6/dist-packages/tensorflow/contrib/learn/python/learn/datasets/mnist.py:110: dense_to_one_hot (from tensorflow.contrib.learn.python.learn.datasets.mnist) is deprecated and will be removed in a future version.\n",
            "Instructions for updating:\n",
            "Please use tf.one_hot on tensors.\n",
            "Extracting MNIST_Fashion/t10k-images-idx3-ubyte.gz\n",
            "Extracting MNIST_Fashion/t10k-labels-idx1-ubyte.gz\n",
            "WARNING:tensorflow:From /usr/local/lib/python3.6/dist-packages/tensorflow/contrib/learn/python/learn/datasets/mnist.py:290: DataSet.__init__ (from tensorflow.contrib.learn.python.learn.datasets.mnist) is deprecated and will be removed in a future version.\n",
            "Instructions for updating:\n",
            "Please use alternatives such as official/mnist/dataset.py from tensorflow/models.\n"
          ],
          "name": "stdout"
        }
      ]
    },
    {
      "cell_type": "code",
      "metadata": {
        "id": "YRShcih9m57W",
        "colab_type": "code",
        "colab": {
          "base_uri": "https://localhost:8080/",
          "height": 88
        },
        "outputId": "5cd4f5be-8e15-4be2-b29f-2cb997d1279f"
      },
      "source": [
        "print(mnist.train.images.shape)\n",
        "print(mnist.test.images.shape)\n",
        "print(mnist.train.labels.shape)\n",
        "print(mnist.test.labels.shape)"
      ],
      "execution_count": 5,
      "outputs": [
        {
          "output_type": "stream",
          "text": [
            "(55000, 784)\n",
            "(10000, 784)\n",
            "(55000, 10)\n",
            "(10000, 10)\n"
          ],
          "name": "stdout"
        }
      ]
    },
    {
      "cell_type": "code",
      "metadata": {
        "id": "Nrw4Firbm9YD",
        "colab_type": "code",
        "colab": {
          "base_uri": "https://localhost:8080/",
          "height": 2452
        },
        "outputId": "24fc381c-aa30-4aaf-cb26-b695d4a0dfa4"
      },
      "source": [
        "plt.figure(figsize=(1,1))\n",
        "sample_image = mnist.train.next_batch(1)[0]\n",
        "print(sample_image[0])\n",
        "\n",
        "sample_image = sample_image.reshape([28,28])\n",
        "plt.imshow(sample_image, cmap='Greys')"
      ],
      "execution_count": 6,
      "outputs": [
        {
          "output_type": "stream",
          "text": [
            "[0.         0.         0.         0.         0.         0.\n",
            " 0.         0.         0.         0.         0.         0.\n",
            " 0.         0.         0.         0.         0.         0.\n",
            " 0.         0.         0.         0.         0.         0.\n",
            " 0.         0.         0.         0.         0.         0.\n",
            " 0.         0.         0.         0.         0.         0.\n",
            " 0.         0.         0.         0.         0.         0.\n",
            " 0.         0.         0.         0.         0.         0.\n",
            " 0.         0.         0.         0.         0.         0.\n",
            " 0.         0.         0.         0.         0.         0.\n",
            " 0.         0.         0.         0.         0.         0.\n",
            " 0.02352941 0.         0.         0.35686275 0.39607847 0.4156863\n",
            " 0.4156863  0.1764706  0.         0.         0.00392157 0.\n",
            " 0.         0.         0.         0.         0.         0.\n",
            " 0.         0.         0.         0.         0.         0.\n",
            " 0.         0.         0.         0.02745098 0.         0.06666667\n",
            " 0.6431373  0.22352943 0.07843138 0.08235294 0.14901961 0.5529412\n",
            " 0.46274513 0.         0.         0.01176471 0.         0.\n",
            " 0.         0.         0.         0.         0.         0.\n",
            " 0.         0.         0.         0.         0.         0.\n",
            " 0.         0.         0.         0.56078434 0.14117648 0.\n",
            " 0.         0.         0.         0.         0.52156866 0.34509805\n",
            " 0.         0.01960784 0.         0.         0.         0.\n",
            " 0.         0.         0.         0.         0.         0.\n",
            " 0.         0.         0.00784314 0.00784314 0.01568628 0.\n",
            " 0.72156864 0.5764706  0.         0.01176471 0.         0.\n",
            " 0.01568628 0.         0.         0.72156864 0.27058825 0.\n",
            " 0.01176471 0.00392157 0.         0.00392157 0.         0.\n",
            " 0.         0.         0.         0.01176471 0.00784314 0.\n",
            " 0.         0.         0.         0.         0.5019608  0.20784315\n",
            " 0.         0.00784314 0.         0.00392157 0.00392157 0.01176471\n",
            " 0.         0.49803925 0.5411765  0.         0.         0.\n",
            " 0.         0.         0.01176471 0.01176471 0.         0.01176471\n",
            " 0.         0.         0.         0.         0.         0.02745098\n",
            " 0.         0.34901962 0.5372549  0.         0.         0.\n",
            " 0.         0.         0.         0.         0.         0.\n",
            " 0.39607847 0.05490196 0.01176471 0.         0.         0.\n",
            " 0.         0.         0.         0.01960784 0.         0.37647063\n",
            " 0.54901963 0.43137258 0.5294118  0.5568628  0.5803922  0.6862745\n",
            " 0.5882353  0.36078432 0.3921569  0.427451   0.39607847 0.36862746\n",
            " 0.42352945 0.4784314  0.43137258 0.14117648 0.7372549  0.63529414\n",
            " 0.6117647  0.23137257 0.         0.2901961  0.6431373  0.09019608\n",
            " 0.         0.03137255 0.         0.54509807 0.6862745  0.6784314\n",
            " 0.7411765  0.7137255  0.14509805 0.6784314  0.7490196  0.75294125\n",
            " 0.72156864 0.73333335 0.7372549  0.7294118  0.7058824  0.93725497\n",
            " 0.34901962 0.         0.4431373  0.72156864 0.65882355 0.79215693\n",
            " 0.6        0.5803922  0.854902   0.24313727 0.00392157 0.\n",
            " 0.         0.53333336 0.7254902  0.5529412  0.854902   0.2784314\n",
            " 0.         0.227451   0.6313726  0.53333336 0.6901961  0.6901961\n",
            " 0.69803923 0.6627451  0.12941177 0.         0.         0.\n",
            " 0.16862746 0.         0.47450984 0.81568635 0.7725491  0.46274513\n",
            " 0.8000001  0.3803922  0.         0.         0.         0.6039216\n",
            " 0.7372549  0.19607845 0.05490196 0.12941177 0.00392157 0.00392157\n",
            " 0.         0.2784314  0.78823537 0.654902   0.7372549  0.8235295\n",
            " 0.36078432 0.         0.17254902 0.         0.24313727 0.46274513\n",
            " 0.75294125 0.93725497 0.6392157  0.22352943 0.32156864 0.25882354\n",
            " 0.00392157 0.         0.         0.7607844  0.67058825 0.47450984\n",
            " 0.46274513 0.25490198 0.         0.05882353 0.         0.38823533\n",
            " 0.48235297 0.53333336 0.8470589  0.5294118  0.6784314  0.6431373\n",
            " 0.         0.         0.9294118  0.6156863  0.67058825 0.\n",
            " 0.         0.03137255 0.07058824 0.30588236 0.00784314 0.\n",
            " 0.         0.7686275  0.7568628  0.5137255  0.35686275 1.\n",
            " 0.16470589 0.01960784 0.77647066 0.5568628  0.27058825 0.69411767\n",
            " 0.7058824  0.74509805 0.5686275  0.         0.03921569 0.854902\n",
            " 0.48235297 0.21176472 0.5764706  0.         0.26666668 0.19607845\n",
            " 0.38823533 0.39607847 0.         0.         0.         0.5019608\n",
            " 0.70980394 0.7372549  0.12941177 0.22352943 0.26666668 0.\n",
            " 0.57254905 0.7058824  0.57254905 0.6        0.81568635 0.7843138\n",
            " 0.8196079  0.3803922  0.7137255  0.8745099  0.5137255  0.56078434\n",
            " 0.35686275 0.03529412 0.18431373 0.6392157  0.6509804  0.21960786\n",
            " 0.01176471 0.         0.         0.6039216  0.75294125 0.86274517\n",
            " 0.8313726  0.5176471  0.         0.         0.27058825 0.8235295\n",
            " 0.5372549  0.3921569  0.6745098  0.5176471  0.64705884 0.6156863\n",
            " 0.8313726  0.74509805 0.75294125 0.6313726  0.6039216  0.27058825\n",
            " 0.5176471  0.23137257 0.2901961  0.46274513 0.00784314 0.\n",
            " 0.         0.7725491  0.77647066 0.7490196  0.79215693 0.8431373\n",
            " 0.9333334  0.9490197  0.5568628  0.7686275  0.30588236 0.08235294\n",
            " 0.09019608 0.09803922 0.10588236 0.03921569 0.28235295 0.9960785\n",
            " 0.5647059  0.7960785  0.9058824  0.9803922  0.3254902  0.23529413\n",
            " 0.48627454 0.454902   0.         0.         0.         0.70980394\n",
            " 0.7372549  0.7254902  0.7137255  0.7490196  0.52156866 0.69803923\n",
            " 0.83921576 0.7490196  0.19607845 0.02745098 0.14901961 0.13333334\n",
            " 0.12941177 0.00392157 0.33333334 0.7058824  0.6039216  0.87843144\n",
            " 0.79215693 0.6117647  0.07058824 0.5921569  0.227451   0.3529412\n",
            " 0.00784314 0.         0.         0.7568628  0.7372549  0.7176471\n",
            " 0.7960785  0.6431373  0.         0.05490196 0.04705883 0.65882355\n",
            " 0.48627454 0.00784314 0.07058824 0.12941177 0.07058824 0.01568628\n",
            " 0.5803922  0.79215693 0.6862745  0.6        0.29803923 0.85098046\n",
            " 0.8745099  0.7176471  0.77647066 0.3647059  0.00784314 0.\n",
            " 0.         0.7607844  0.74509805 0.8862746  0.17254902 0.01176471\n",
            " 0.74509805 0.00392157 0.04313726 0.8078432  0.4156863  0.01960784\n",
            " 0.08235294 0.24313727 0.1764706  0.05490196 0.5372549  0.68235296\n",
            " 0.30588236 0.2392157  1.         0.78823537 0.77647066 0.7607844\n",
            " 0.90196085 0.5372549  0.00392157 0.         0.         0.8000001\n",
            " 0.6784314  0.6        0.43921572 0.19607845 0.45098042 0.14509805\n",
            " 0.69803923 0.69803923 0.20000002 0.10980393 0.3254902  0.24705884\n",
            " 0.37254903 0.19607845 0.3254902  0.40000004 0.34901962 0.04313726\n",
            " 0.3803922  0.8000001  0.8470589  0.7607844  0.5568628  0.33333334\n",
            " 0.         0.         0.00392157 0.8352942  0.69411767 0.5568628\n",
            " 0.8078432  0.19607845 0.48235297 0.32941177 0.15686275 0.7960785\n",
            " 0.13725491 0.05490196 0.07843138 0.15294118 0.0509804  0.10196079\n",
            " 0.3803922  0.15686275 0.03921569 0.         0.427451   0.7960785\n",
            " 0.8431373  0.14509805 0.         0.2901961  0.         0.\n",
            " 0.08235294 0.7843138  0.7568628  0.75294125 0.7960785  0.8588236\n",
            " 0.9686275  0.8588236  0.41960788 0.9843138  0.2784314  0.2627451\n",
            " 0.20000002 0.19215688 0.2784314  0.26666668 0.2901961  0.\n",
            " 0.         0.43529415 0.8980393  0.64705884 0.         0.00392157\n",
            " 0.20392159 0.24313727 0.45882356 0.73333335 0.41960788 0.427451\n",
            " 0.6745098  0.7843138  0.7568628  0.73333335 0.6431373  0.6862745\n",
            " 0.8352942  0.60784316 0.8235295  0.7843138  0.7725491  0.5647059\n",
            " 0.45098042 0.60784316 0.6392157  0.14901961 0.18431373 0.82745105\n",
            " 0.6627451  0.8000001  0.46274513 0.         0.09803922 0.18431373\n",
            " 0.45882356 0.8313726  0.54901963 0.82745105 0.8862746  0.87843144\n",
            " 0.8313726  0.8117648  0.6901961  0.627451   0.5647059  0.48235297\n",
            " 0.654902   0.79215693 0.91372555 0.8078432  0.6745098  0.7843138\n",
            " 0.8117648  0.89019614 0.8588236  0.854902   0.58431375 0.24313727\n",
            " 0.83921576 0.49411768 0.32156864 0.21176472 0.         0.\n",
            " 0.03137255 0.4156863  0.7411765  0.52156866 0.5137255  0.65882355\n",
            " 0.79215693 0.8980393  0.9450981  1.         0.7411765  0.6901961\n",
            " 0.2392157  0.28235295 0.2509804  0.38823533 0.34509805 0.32156864\n",
            " 0.32941177 0.36078432 0.5019608  0.19215688 0.40000004 0.427451\n",
            " 0.3137255  0.         0.         0.         0.         0.\n",
            " 0.         0.         0.         0.         0.         0.\n",
            " 0.         0.         0.         0.         0.         0.\n",
            " 0.         0.         0.         0.         0.         0.\n",
            " 0.         0.         0.         0.         0.         0.\n",
            " 0.         0.         0.         0.         0.         0.\n",
            " 0.         0.         0.         0.         0.         0.\n",
            " 0.         0.         0.         0.         0.         0.\n",
            " 0.         0.         0.         0.         0.         0.\n",
            " 0.         0.         0.         0.        ]\n"
          ],
          "name": "stdout"
        },
        {
          "output_type": "execute_result",
          "data": {
            "text/plain": [
              "<matplotlib.image.AxesImage at 0x7f408f775198>"
            ]
          },
          "metadata": {
            "tags": []
          },
          "execution_count": 6
        },
        {
          "output_type": "display_data",
          "data": {
            "image/png": "[encoded data removed]",
            "text/plain": [
              "<Figure size 72x72 with 1 Axes>"
            ]
          },
          "metadata": {
            "tags": []
          }
        }
      ]
    },
    {
      "cell_type": "code",
      "metadata": {
        "id": "hauB2Bzsm_m9",
        "colab_type": "code",
        "colab": {}
      },
      "source": [
        "#Training Parameters \n",
        "\n",
        "learning_rate=0.0002\n",
        "batch_size=128\n",
        "epochs=100000\n",
        "\n",
        "#Network Parameters\n",
        "\n",
        "image_dim=784       # Image size is 28x28\n",
        "Y_dimension=10      # For CGAN\n",
        "gen_hidd_dim=256\n",
        "disc_hidd_dim=256\n",
        "z_noise_dim=100     # Input noise datapoint\n",
        "\n",
        "def xavier_init(shape):\n",
        "  return tf.random_normal(shape = shape, stddev = 1./tf.sqrt(shape[0]/2.0))"
      ],
      "execution_count": 0,
      "outputs": []
    },
    {
      "cell_type": "code",
      "metadata": {
        "id": "GOAIKxxBnciF",
        "colab_type": "code",
        "colab": {
          "base_uri": "https://localhost:8080/",
          "height": 90
        },
        "outputId": "7fbf5c82-b2a3-4329-d02f-d5912133b752"
      },
      "source": [
        "# for  CGAN\n",
        "weights= {\"disc_H\" : tf.Variable(xavier_init([image_dim + Y_dimension, disc_hidd_dim])),\n",
        "          \"disc_final\" : tf.Variable(xavier_init([disc_hidd_dim, 1])),\n",
        "          \"gen_H\" : tf.Variable(xavier_init([z_noise_dim + Y_dimension, gen_hidd_dim])),\n",
        "          \"gen_final\" : tf.Variable(xavier_init([gen_hidd_dim, image_dim]))\n",
        "         }\n",
        "\n",
        "bias= {\"disc_H\" : tf.Variable(xavier_init([disc_hidd_dim])),\n",
        "       \"disc_final\" : tf.Variable(xavier_init([1])),\n",
        "       \"gen_H\" : tf.Variable(xavier_init([gen_hidd_dim])),\n",
        "       \"gen_final\" : tf.Variable(xavier_init([image_dim]))\n",
        "      }"
      ],
      "execution_count": 8,
      "outputs": [
        {
          "output_type": "stream",
          "text": [
            "WARNING:tensorflow:From /usr/local/lib/python3.6/dist-packages/tensorflow/python/framework/op_def_library.py:263: colocate_with (from tensorflow.python.framework.ops) is deprecated and will be removed in a future version.\n",
            "Instructions for updating:\n",
            "Colocations handled automatically by placer.\n"
          ],
          "name": "stdout"
        }
      ]
    },
    {
      "cell_type": "code",
      "metadata": {
        "id": "C16nlCypngfO",
        "colab_type": "code",
        "colab": {}
      },
      "source": [
        "#Creating the computational graph\n",
        "#Define Discriminator function\n",
        "\n",
        "\n",
        "# for CGAN\n",
        "def Discriminator(x,y):\n",
        "  inputs = tf.concat(axis = 1, values=[x,y])\n",
        "  hidden_layer = tf.nn.relu(tf.add(tf.matmul(inputs, weights[\"disc_H\"]), bias[\"disc_H\"]))\n",
        "  final_layer = tf.add(tf.matmul(hidden_layer, weights[\"disc_final\"]), bias[\"disc_final\"])\n",
        "  disc_output = tf.nn.sigmoid(final_layer)\n",
        "  return final_layer, disc_output\n",
        "\n",
        "\n",
        "\n",
        "# for CGAN\n",
        "# Define generator network \n",
        "def Generator(x,y):\n",
        "  inputs = tf.concat(axis = 1, values=[x,y])\n",
        "  hidden_layer = tf.nn.relu(tf.add(tf.matmul(inputs, weights[\"gen_H\"]), bias[\"gen_H\"]))\n",
        "  final_layer = tf.add(tf.matmul(hidden_layer, weights[\"gen_final\"]), bias[\"gen_final\"])\n",
        "  gen_output = tf.nn.sigmoid(final_layer)\n",
        "  return gen_output\n",
        "\n",
        "\n",
        "\n",
        "# for CGAN\n",
        "# Define the placeholders for External Input\n",
        "x_input= tf.placeholder(tf.float32, shape = [None, image_dim], name=\"real_input\")\n",
        "Y_input= tf.placeholder(tf.float32, shape = [None, Y_dimension], name=\"Labels\")\n",
        "z_input= tf.placeholder(tf.float32, shape = [None, z_noise_dim], name=\"input_noise\")\n",
        "\n",
        " \n",
        "# for CGAN\n",
        "# Building the Generator Network\n",
        "output_Gen = Generator(z_input, Y_input)\n",
        " \n",
        "\n",
        "# for CGAN\n",
        "# Buidling the Discriminator Network \n",
        "real_output1_Disc, real_output_Disc = Discriminator(x_input, Y_input) # Implements D(x)\n",
        "fake_output1_Disc, fake_output_Disc = Discriminator(output_Gen, Y_input) # Implements D(G(x))"
      ],
      "execution_count": 0,
      "outputs": []
    },
    {
      "cell_type": "code",
      "metadata": {
        "id": "3TUBNatTnuI0",
        "colab_type": "code",
        "colab": {}
      },
      "source": [
        "#First kind of loss\n",
        "#with tf.name_scope(\"Discriminator_Loss\") as scope:\n",
        " # Discriminator_Loss = -tf.reduce_mean(tf.log(real_output_Disc+0.0001) + tf.log(1.- fake_output_Disc+0.0001))\n",
        "  \n",
        "#with tf.name_scope(\"Generator_Loss\") as scope:\n",
        " # Generator_Loss = -tf.reduce_mean(tf.log(fake_output_Disc+0.0001)) # due to max log(D(G(x)))\n",
        "  \n",
        "# Tensorboard Summary\n",
        "#Disc_loss_total = tf.summary.scalar(\"Disc_Total_loss\", Discriminator_Loss)\n",
        "#Gen_loss_total = tf.summary.scalar(\"Gen_Loss\", Generator_Loss)"
      ],
      "execution_count": 0,
      "outputs": []
    },
    {
      "cell_type": "code",
      "metadata": {
        "id": "kd6Ph8Npn_FS",
        "colab_type": "code",
        "colab": {}
      },
      "source": [
        "# Second kind of loss\n",
        "Disc_real_loss = tf.reduce_mean(tf.nn.sigmoid_cross_entropy_with_logits(logits = real_output1_Disc, labels= tf.ones_like(real_output1_Disc)))\n",
        "Disc_fake_loss = tf.reduce_mean(tf.nn.sigmoid_cross_entropy_with_logits(logits = fake_output1_Disc, labels= tf.zeros_like(fake_output1_Disc)))\n",
        "Discriminator_Loss = Disc_real_loss + Disc_fake_loss\n",
        "\n",
        "Generator_loss = tf.reduce_mean(tf.nn.sigmoid_cross_entropy_with_logits(logits = fake_output1_Disc, labels= tf.ones_like(fake_output1_Disc)))\n",
        "\n",
        "#Tensorboard Summary\n",
        "Disc_loss_real_summary = tf.summary.scalar(\"Disc_loss_real\", Disc_real_loss)\n",
        "Disc_loss_fake_summary = tf.summary.scalar(\"Disc_loss_fake\", Disc_fake_loss)\n",
        "Disc_loss_summary = tf.summary.scalar(\"Disc_Total_Loss\", Discriminator_Loss)\n",
        "\n",
        "Disc_loss_total = tf.summary.merge([Disc_loss_real_summary, Disc_loss_fake_summary])\n",
        "Gen_loss_total = tf.summary.scalar(\"Gen_Loss\", Generator_loss)\n"
      ],
      "execution_count": 0,
      "outputs": []
    },
    {
      "cell_type": "code",
      "metadata": {
        "id": "HEB1Q_EloCCS",
        "colab_type": "code",
        "colab": {}
      },
      "source": [
        "# Define the variables\n",
        "\n",
        "Generator_var = [weights[\"gen_H\"], weights[\"gen_final\"], bias[\"gen_H\"], bias[\"gen_final\"]]\n",
        "Discriminator_var = [weights[\"disc_H\"], weights[\"disc_final\"], bias[\"disc_H\"], bias[\"disc_final\"]]"
      ],
      "execution_count": 0,
      "outputs": []
    },
    {
      "cell_type": "code",
      "metadata": {
        "id": "_PyJEaeNod40",
        "colab_type": "code",
        "colab": {}
      },
      "source": [
        "#Define the optimizer \n",
        "\n",
        "with tf.name_scope(\"Optimizer_Discriminator\") as scope:\n",
        "  Discriminator_optimize = tf.train.AdamOptimizer(learning_rate= learning_rate).minimize(Discriminator_Loss, var_list= Discriminator_var)\n",
        "  \n",
        "with tf.name_scope(\"Optimizer_Generator\") as scope:\n",
        "  Generator_optimize = tf.train.AdamOptimizer(learning_rate=learning_rate).minimize(Generator_loss, var_list= Generator_var)"
      ],
      "execution_count": 0,
      "outputs": []
    },
    {
      "cell_type": "code",
      "metadata": {
        "id": "dK2q0-4Nogyu",
        "colab_type": "code",
        "colab": {
          "base_uri": "https://localhost:8080/",
          "height": 906
        },
        "outputId": "70537455-6a3a-473c-f4cd-545dfedec3a6"
      },
      "source": [
        "# Initialize the variables\n",
        "init = tf.global_variables_initializer()\n",
        "\n",
        "sess=tf.Session()\n",
        "sess.run(init)\n",
        "writer = tf.summary.FileWriter(\"./log\", sess.graph)\n",
        "\n",
        "for epoch in range(epochs):\n",
        "\n",
        "  #for CGAN\n",
        "  X_batch, Y_label = mnist.train.next_batch(batch_size)\n",
        "  \n",
        "  \n",
        "  #for CGAN\n",
        "  # Generate noise to feed the discriminator\n",
        "  z_noise = np.random.uniform(-1.,1., size = [batch_size, z_noise_dim])\n",
        "  _, Disc_loss_epoch= sess.run([Discriminator_optimize, Discriminator_Loss], feed_dict = {x_input:X_batch,Y_input: Y_label, z_input:z_noise})\n",
        "  _, Gen_loss_epoch = sess.run([Generator_optimize, Generator_loss], feed_dict = {z_input:z_noise, Y_input: Y_label})\n",
        "  \n",
        "  \n",
        "  #for CGAN\n",
        "  # Running the Discriminator summary\n",
        "  summary_Disc_Loss = sess.run(Disc_loss_total, feed_dict={x_input:X_batch, z_input:z_noise, Y_input: Y_label})\n",
        "  \n",
        "  # Adding the Discriminator summary\n",
        "  writer.add_summary(summary_Disc_Loss, epoch)\n",
        "  \n",
        "  \n",
        "  # for CGAN\n",
        "  # Running the Generator summary\n",
        "  summary_Gen_Loss = sess.run(Gen_loss_total, feed_dict={z_input:z_noise, Y_input: Y_label})\n",
        "  \n",
        "  #Adding the Generator summary\n",
        "  writer.add_summary(summary_Gen_Loss, epoch)\n",
        "  \n",
        "  if epoch % 2000 ==0:\n",
        "    print(\"Steps: {0} : Generator Loss: {1}, Discriminator Loss: {2}\".format(epoch, Gen_loss_epoch, Disc_loss_epoch))\n",
        "  "
      ],
      "execution_count": 17,
      "outputs": [
        {
          "output_type": "stream",
          "text": [
            "Steps: 0 : Generator Loss: 1.4675860404968262, Discriminator Loss: 1.7403345108032227\n",
            "Steps: 2000 : Generator Loss: 4.749839782714844, Discriminator Loss: 0.04120923578739166\n",
            "Steps: 4000 : Generator Loss: 4.0814313888549805, Discriminator Loss: 0.11454446613788605\n",
            "Steps: 6000 : Generator Loss: 3.4098076820373535, Discriminator Loss: 0.25700417160987854\n",
            "Steps: 8000 : Generator Loss: 3.7110233306884766, Discriminator Loss: 0.25778454542160034\n",
            "Steps: 10000 : Generator Loss: 3.5367658138275146, Discriminator Loss: 0.3248119652271271\n",
            "Steps: 12000 : Generator Loss: 3.6207449436187744, Discriminator Loss: 0.3961750864982605\n",
            "Steps: 14000 : Generator Loss: 3.5167086124420166, Discriminator Loss: 0.3987720012664795\n",
            "Steps: 16000 : Generator Loss: 3.6231069564819336, Discriminator Loss: 0.3809390664100647\n",
            "Steps: 18000 : Generator Loss: 3.470442771911621, Discriminator Loss: 0.5928710103034973\n",
            "Steps: 20000 : Generator Loss: 3.820683479309082, Discriminator Loss: 0.508980929851532\n",
            "Steps: 22000 : Generator Loss: 2.90804386138916, Discriminator Loss: 0.5675354599952698\n",
            "Steps: 24000 : Generator Loss: 2.7332282066345215, Discriminator Loss: 0.4740915894508362\n",
            "Steps: 26000 : Generator Loss: 3.0546047687530518, Discriminator Loss: 0.5487654209136963\n",
            "Steps: 28000 : Generator Loss: 1.8478741645812988, Discriminator Loss: 0.7773826122283936\n",
            "Steps: 30000 : Generator Loss: 2.1901659965515137, Discriminator Loss: 0.5244184732437134\n",
            "Steps: 32000 : Generator Loss: 1.9798505306243896, Discriminator Loss: 0.9158338904380798\n",
            "Steps: 34000 : Generator Loss: 1.8746323585510254, Discriminator Loss: 0.6938216686248779\n",
            "Steps: 36000 : Generator Loss: 1.4761989116668701, Discriminator Loss: 0.9254927039146423\n",
            "Steps: 38000 : Generator Loss: 2.014638900756836, Discriminator Loss: 0.901972770690918\n",
            "Steps: 40000 : Generator Loss: 2.222139835357666, Discriminator Loss: 0.674055814743042\n",
            "Steps: 42000 : Generator Loss: 1.7452555894851685, Discriminator Loss: 0.9865115880966187\n",
            "Steps: 44000 : Generator Loss: 1.5466643571853638, Discriminator Loss: 1.1077420711517334\n",
            "Steps: 46000 : Generator Loss: 1.8993703126907349, Discriminator Loss: 0.7952528595924377\n",
            "Steps: 48000 : Generator Loss: 1.913450002670288, Discriminator Loss: 0.7895895838737488\n",
            "Steps: 50000 : Generator Loss: 2.0858521461486816, Discriminator Loss: 0.7929486036300659\n",
            "Steps: 52000 : Generator Loss: 1.8272532224655151, Discriminator Loss: 0.9600788354873657\n",
            "Steps: 54000 : Generator Loss: 1.7140448093414307, Discriminator Loss: 1.1493432521820068\n",
            "Steps: 56000 : Generator Loss: 1.6712939739227295, Discriminator Loss: 1.1652240753173828\n",
            "Steps: 58000 : Generator Loss: 1.5731923580169678, Discriminator Loss: 1.1581840515136719\n",
            "Steps: 60000 : Generator Loss: 1.7588951587677002, Discriminator Loss: 1.0966012477874756\n",
            "Steps: 62000 : Generator Loss: 1.783560037612915, Discriminator Loss: 0.9663382172584534\n",
            "Steps: 64000 : Generator Loss: 1.45692777633667, Discriminator Loss: 1.1173069477081299\n",
            "Steps: 66000 : Generator Loss: 1.5764297246932983, Discriminator Loss: 0.9379568099975586\n",
            "Steps: 68000 : Generator Loss: 1.641113519668579, Discriminator Loss: 0.9474889636039734\n",
            "Steps: 70000 : Generator Loss: 1.470016360282898, Discriminator Loss: 1.1526347398757935\n",
            "Steps: 72000 : Generator Loss: 1.6170234680175781, Discriminator Loss: 1.104804515838623\n",
            "Steps: 74000 : Generator Loss: 1.9832115173339844, Discriminator Loss: 0.9219096899032593\n",
            "Steps: 76000 : Generator Loss: 1.7001087665557861, Discriminator Loss: 0.998623788356781\n",
            "Steps: 78000 : Generator Loss: 1.1447757482528687, Discriminator Loss: 1.4651936292648315\n",
            "Steps: 80000 : Generator Loss: 1.7748191356658936, Discriminator Loss: 1.11466383934021\n",
            "Steps: 82000 : Generator Loss: 1.5239243507385254, Discriminator Loss: 0.9528615474700928\n",
            "Steps: 84000 : Generator Loss: 1.4536657333374023, Discriminator Loss: 1.0041353702545166\n",
            "Steps: 86000 : Generator Loss: 1.5484004020690918, Discriminator Loss: 1.2545852661132812\n",
            "Steps: 88000 : Generator Loss: 1.6197535991668701, Discriminator Loss: 1.2066526412963867\n",
            "Steps: 90000 : Generator Loss: 1.6867964267730713, Discriminator Loss: 0.9941229224205017\n",
            "Steps: 92000 : Generator Loss: 1.259552001953125, Discriminator Loss: 1.4393961429595947\n",
            "Steps: 94000 : Generator Loss: 1.6499379873275757, Discriminator Loss: 1.3415933847427368\n",
            "Steps: 96000 : Generator Loss: 1.4460835456848145, Discriminator Loss: 1.2795312404632568\n",
            "Steps: 98000 : Generator Loss: 1.5630066394805908, Discriminator Loss: 1.2374913692474365\n"
          ],
          "name": "stdout"
        }
      ]
    },
    {
      "cell_type": "code",
      "metadata": {
        "id": "30ofUHdYou3S",
        "colab_type": "code",
        "colab": {}
      },
      "source": [
        "from matplotlib import gridspec\n",
        "# for CGAN\n",
        "def generate_plot(samples):\n",
        "  fig = plt.figure(figsize =(4,4))\n",
        "  gs= gridspec.GridSpec(4,4)\n",
        "  gs.update(wspace = 0.05, hspace= 0.05)\n",
        "  \n",
        "  for i, sample in enumerate(samples):\n",
        "    ax = plt.subplot(gs[i])\n",
        "    plt.axis('off')\n",
        "    ax.set_xticks([])\n",
        "    ax.set_yticks([])\n",
        "    ax.set_aspect('equal')\n",
        "    plt.imshow(sample.reshape(28,28), cmap='gray')\n",
        "  return fig"
      ],
      "execution_count": 0,
      "outputs": []
    },
    {
      "cell_type": "code",
      "metadata": {
        "id": "tUbA5V-osqAz",
        "colab_type": "code",
        "colab": {}
      },
      "source": [
        "def create(inp):\n",
        "  feature_map={ \"T-shirt\" : 0,\n",
        "                \"Trouser\" : 1,\n",
        "               \"Pullover\" : 2,\n",
        "               \"Dress\" : 3,\n",
        "               \"Coat\" : 4,\n",
        "               \"Sandal\" : 5,\n",
        "                \"Shirt\" : 6,\n",
        "               \"Sneaker\" : 7,\n",
        "               \"Bag\" : 8,\n",
        "               \"Ankle boot\" : 9,\n",
        "              }\n",
        "  \n",
        "  # Number of samples to be displayed for each category\n",
        "  samples=16\n",
        "  \n",
        "  z_noise = np.random.uniform(-1.,1., size= [samples, z_noise_dim])\n",
        "  \n",
        "  # Create one-hot label vector\n",
        "  Y_label = np.zeros(shape = [samples, Y_dimension])\n",
        "  Y_label[:, feature_map[inp]] = 1\n",
        "  \n",
        "  # Run the trained generator excluding discriminator\n",
        "  generated_samples = sess.run(output_Gen, feed_dict={z_input:z_noise, Y_input:Y_label})\n",
        "  \n",
        "  # plotting the image\n",
        "  generate_plot(generated_samples)"
      ],
      "execution_count": 0,
      "outputs": []
    },
    {
      "cell_type": "code",
      "metadata": {
        "id": "JBznSU5YswZr",
        "colab_type": "code",
        "colab": {
          "base_uri": "https://localhost:8080/",
          "height": 248
        },
        "outputId": "c115b7d5-a0e2-4b0f-ac60-dfdbfe656a0b"
      },
      "source": [
        "create(\"Coat\")"
      ],
      "execution_count": 20,
      "outputs": [
        {
          "output_type": "display_data",
          "data": {
            "image/png": "[encoded data removed]",
            "text/plain": [
              "<Figure size 288x288 with 16 Axes>"
            ]
          },
          "metadata": {
            "tags": []
          }
        }
      ]
    },
    {
      "cell_type": "code",
      "metadata": {
        "id": "3E2P0e9MszFZ",
        "colab_type": "code",
        "colab": {}
      },
      "source": [
        ""
      ],
      "execution_count": 0,
      "outputs": []
    }
  ]
}