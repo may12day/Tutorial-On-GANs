{
 "cells": [
  {
   "cell_type": "code",
   "execution_count": 0,
   "metadata": {
    "colab": {},
    "colab_type": "code",
    "id": "YK0X1e4AsTol"
   },
   "outputs": [],
   "source": [
    "import numpy as np\n",
    "import tensorflow as tf\n",
    "import matplotlib.pyplot as plt"
   ]
  },
  {
   "cell_type": "code",
   "execution_count": 2,
   "metadata": {
    "colab": {
     "base_uri": "https://localhost:8080/",
     "height": 799
    },
    "colab_type": "code",
    "id": "ysN8QPgUs5H-",
    "outputId": "d28c2e93-5365-4abe-bbd0-457a4c4371da"
   },
   "outputs": [
    {
     "name": "stdout",
     "output_type": "stream",
     "text": [
      "--2019-06-11 08:18:19--  http://fashion-mnist.s3-website.eu-central-1.amazonaws.com/train-images-idx3-ubyte.gz\n",
      "Resolving fashion-mnist.s3-website.eu-central-1.amazonaws.com (fashion-mnist.s3-website.eu-central-1.amazonaws.com)... 52.219.73.150\n",
      "Connecting to fashion-mnist.s3-website.eu-central-1.amazonaws.com (fashion-mnist.s3-website.eu-central-1.amazonaws.com)|52.219.73.150|:80... connected.\n",
      "HTTP request sent, awaiting response... 200 OK\n",
      "Length: 26421880 (25M) [binary/octet-stream]\n",
      "Saving to: ‘train-images-idx3-ubyte.gz.1’\n",
      "\n",
      "train-images-idx3-u 100%[===================>]  25.20M  15.9MB/s    in 1.6s    \n",
      "\n",
      "2019-06-11 08:18:21 (15.9 MB/s) - ‘train-images-idx3-ubyte.gz.1’ saved [26421880/26421880]\n",
      "\n",
      "--2019-06-11 08:18:22--  http://fashion-mnist.s3-website.eu-central-1.amazonaws.com/train-labels-idx1-ubyte.gz\n",
      "Resolving fashion-mnist.s3-website.eu-central-1.amazonaws.com (fashion-mnist.s3-website.eu-central-1.amazonaws.com)... 52.219.73.150\n",
      "Connecting to fashion-mnist.s3-website.eu-central-1.amazonaws.com (fashion-mnist.s3-website.eu-central-1.amazonaws.com)|52.219.73.150|:80... connected.\n",
      "HTTP request sent, awaiting response... 200 OK\n",
      "Length: 29515 (29K) [binary/octet-stream]\n",
      "Saving to: ‘train-labels-idx1-ubyte.gz.1’\n",
      "\n",
      "train-labels-idx1-u 100%[===================>]  28.82K  --.-KB/s    in 0.1s    \n",
      "\n",
      "2019-06-11 08:18:22 (275 KB/s) - ‘train-labels-idx1-ubyte.gz.1’ saved [29515/29515]\n",
      "\n",
      "--2019-06-11 08:18:24--  http://fashion-mnist.s3-website.eu-central-1.amazonaws.com/t10k-images-idx3-ubyte.gz\n",
      "Resolving fashion-mnist.s3-website.eu-central-1.amazonaws.com (fashion-mnist.s3-website.eu-central-1.amazonaws.com)... 52.219.72.146\n",
      "Connecting to fashion-mnist.s3-website.eu-central-1.amazonaws.com (fashion-mnist.s3-website.eu-central-1.amazonaws.com)|52.219.72.146|:80... connected.\n",
      "HTTP request sent, awaiting response... 200 OK\n",
      "Length: 4422102 (4.2M) [binary/octet-stream]\n",
      "Saving to: ‘t10k-images-idx3-ubyte.gz.1’\n",
      "\n",
      "t10k-images-idx3-ub 100%[===================>]   4.22M  5.02MB/s    in 0.8s    \n",
      "\n",
      "2019-06-11 08:18:25 (5.02 MB/s) - ‘t10k-images-idx3-ubyte.gz.1’ saved [4422102/4422102]\n",
      "\n",
      "--2019-06-11 08:18:26--  http://fashion-mnist.s3-website.eu-central-1.amazonaws.com/t10k-labels-idx1-ubyte.gz\n",
      "Resolving fashion-mnist.s3-website.eu-central-1.amazonaws.com (fashion-mnist.s3-website.eu-central-1.amazonaws.com)... 52.219.72.146\n",
      "Connecting to fashion-mnist.s3-website.eu-central-1.amazonaws.com (fashion-mnist.s3-website.eu-central-1.amazonaws.com)|52.219.72.146|:80... connected.\n",
      "HTTP request sent, awaiting response... 200 OK\n",
      "Length: 5148 (5.0K) [binary/octet-stream]\n",
      "Saving to: ‘t10k-labels-idx1-ubyte.gz.1’\n",
      "\n",
      "t10k-labels-idx1-ub 100%[===================>]   5.03K  --.-KB/s    in 0s      \n",
      "\n",
      "2019-06-11 08:18:27 (505 MB/s) - ‘t10k-labels-idx1-ubyte.gz.1’ saved [5148/5148]\n",
      "\n"
     ]
    }
   ],
   "source": [
    "!wget http://fashion-mnist.s3-website.eu-central-1.amazonaws.com/train-images-idx3-ubyte.gz\n",
    "!wget http://fashion-mnist.s3-website.eu-central-1.amazonaws.com/train-labels-idx1-ubyte.gz\n",
    "!wget http://fashion-mnist.s3-website.eu-central-1.amazonaws.com/t10k-images-idx3-ubyte.gz\n",
    "!wget http://fashion-mnist.s3-website.eu-central-1.amazonaws.com/t10k-labels-idx1-ubyte.gz"
   ]
  },
  {
   "cell_type": "code",
   "execution_count": 3,
   "metadata": {
    "colab": {
     "base_uri": "https://localhost:8080/",
     "height": 35
    },
    "colab_type": "code",
    "id": "bMTA87VPt0q7",
    "outputId": "1aadba5f-81d4-4952-f634-a03f3eafc142"
   },
   "outputs": [
    {
     "name": "stdout",
     "output_type": "stream",
     "text": [
      "mkdir: cannot create directory ‘MNIST_Fashion’: File exists\n"
     ]
    }
   ],
   "source": [
    "!mkdir MNIST_Fashion\n",
    "!cp *.gz MNIST_Fashion/"
   ]
  },
  {
   "cell_type": "code",
   "execution_count": 4,
   "metadata": {
    "colab": {
     "base_uri": "https://localhost:8080/",
     "height": 375
    },
    "colab_type": "code",
    "id": "8rHjD7YRvH7Y",
    "outputId": "95de1b45-c55a-4726-9ed9-99c68317e9f1"
   },
   "outputs": [
    {
     "name": "stdout",
     "output_type": "stream",
     "text": [
      "WARNING:tensorflow:From <ipython-input-4-9c6db3a0e6a5>:3: read_data_sets (from tensorflow.contrib.learn.python.learn.datasets.mnist) is deprecated and will be removed in a future version.\n",
      "Instructions for updating:\n",
      "Please use alternatives such as official/mnist/dataset.py from tensorflow/models.\n",
      "WARNING:tensorflow:From /usr/local/lib/python3.6/dist-packages/tensorflow/contrib/learn/python/learn/datasets/mnist.py:260: maybe_download (from tensorflow.contrib.learn.python.learn.datasets.base) is deprecated and will be removed in a future version.\n",
      "Instructions for updating:\n",
      "Please write your own downloading logic.\n",
      "WARNING:tensorflow:From /usr/local/lib/python3.6/dist-packages/tensorflow/contrib/learn/python/learn/datasets/mnist.py:262: extract_images (from tensorflow.contrib.learn.python.learn.datasets.mnist) is deprecated and will be removed in a future version.\n",
      "Instructions for updating:\n",
      "Please use tf.data to implement this functionality.\n",
      "Extracting MNIST_Fashion/train-images-idx3-ubyte.gz\n",
      "WARNING:tensorflow:From /usr/local/lib/python3.6/dist-packages/tensorflow/contrib/learn/python/learn/datasets/mnist.py:267: extract_labels (from tensorflow.contrib.learn.python.learn.datasets.mnist) is deprecated and will be removed in a future version.\n",
      "Instructions for updating:\n",
      "Please use tf.data to implement this functionality.\n",
      "Extracting MNIST_Fashion/train-labels-idx1-ubyte.gz\n",
      "Extracting MNIST_Fashion/t10k-images-idx3-ubyte.gz\n",
      "Extracting MNIST_Fashion/t10k-labels-idx1-ubyte.gz\n",
      "WARNING:tensorflow:From /usr/local/lib/python3.6/dist-packages/tensorflow/contrib/learn/python/learn/datasets/mnist.py:290: DataSet.__init__ (from tensorflow.contrib.learn.python.learn.datasets.mnist) is deprecated and will be removed in a future version.\n",
      "Instructions for updating:\n",
      "Please use alternatives such as official/mnist/dataset.py from tensorflow/models.\n"
     ]
    }
   ],
   "source": [
    "from tensorflow.examples.tutorials.mnist import input_data\n",
    "# For GAN\n",
    "mnist= input_data.read_data_sets(\"MNIST_Fashion/\")\n"
   ]
  },
  {
   "cell_type": "code",
   "execution_count": 5,
   "metadata": {
    "colab": {
     "base_uri": "https://localhost:8080/",
     "height": 88
    },
    "colab_type": "code",
    "id": "7QP3aI9u5AtQ",
    "outputId": "b0ad1579-2ab4-4963-a1cf-ff355355f49b"
   },
   "outputs": [
    {
     "name": "stdout",
     "output_type": "stream",
     "text": [
      "(55000, 784)\n",
      "(10000, 784)\n",
      "(55000,)\n",
      "(10000,)\n"
     ]
    }
   ],
   "source": [
    "print(mnist.train.images.shape)\n",
    "print(mnist.test.images.shape)\n",
    "print(mnist.train.labels.shape)\n",
    "print(mnist.test.labels.shape)"
   ]
  },
  {
   "cell_type": "code",
   "execution_count": 6,
   "metadata": {
    "colab": {
     "base_uri": "https://localhost:8080/",
     "height": 2452
    },
    "colab_type": "code",
    "id": "kemHLy6y090E",
    "outputId": "84ef4cd6-a4e9-422f-b206-954370668d03"
   },
   "outputs": [
    {
     "name": "stdout",
     "output_type": "stream",
     "text": [
      "[0.         0.         0.         0.         0.         0.\n",
      " 0.00784314 0.         0.         0.         0.17254902 0.67058825\n",
      " 0.22352943 0.15294118 0.15294118 0.20392159 0.6313726  0.12156864\n",
      " 0.         0.         0.         0.02745098 0.         0.\n",
      " 0.         0.         0.         0.         0.         0.\n",
      " 0.         0.         0.         0.00784314 0.         0.10196079\n",
      " 0.39607847 0.5294118  0.4666667  0.73333335 0.8352942  0.67058825\n",
      " 0.6313726  0.854902   0.7411765  0.5294118  0.5882353  0.29411766\n",
      " 0.02745098 0.         0.01960784 0.         0.         0.\n",
      " 0.         0.         0.         0.         0.         0.\n",
      " 0.01960784 0.         0.         0.6117647  0.6313726  0.45882356\n",
      " 0.4666667  0.39607847 0.5882353  0.5882353  0.6901961  0.50980395\n",
      " 0.35686275 0.4666667  0.5176471  0.5803922  0.6313726  0.00784314\n",
      " 0.         0.         0.         0.         0.         0.\n",
      " 0.         0.         0.         0.         0.01960784 0.\n",
      " 0.19215688 0.6627451  0.38431376 0.38431376 0.427451   0.3647059\n",
      " 0.27450982 0.3137255  0.34509805 0.3254902  0.39607847 0.33333334\n",
      " 0.37647063 0.35686275 0.56078434 0.3254902  0.         0.01960784\n",
      " 0.         0.         0.         0.         0.         0.\n",
      " 0.         0.         0.00784314 0.         0.3647059  0.6117647\n",
      " 0.4666667  0.33333334 0.43529415 0.38431376 0.35686275 0.39607847\n",
      " 0.4156863  0.38431376 0.38431376 0.38431376 0.3254902  0.48627454\n",
      " 0.5803922  0.40784317 0.         0.00784314 0.         0.\n",
      " 0.         0.         0.         0.         0.         0.\n",
      " 0.         0.         0.54901963 0.44705886 0.6509804  0.3647059\n",
      " 0.45882356 0.427451   0.4156863  0.39607847 0.44705886 0.38431376\n",
      " 0.35686275 0.4666667  0.4666667  0.7137255  0.5686275  0.54901963\n",
      " 0.         0.         0.         0.         0.         0.\n",
      " 0.         0.         0.         0.         0.         0.\n",
      " 0.5686275  0.44705886 0.6392157  0.43529415 0.33333334 0.35686275\n",
      " 0.3647059  0.34509805 0.39607847 0.39607847 0.30588236 0.3647059\n",
      " 0.45882356 0.61960787 0.43529415 0.6392157  0.03921569 0.\n",
      " 0.         0.         0.         0.         0.         0.\n",
      " 0.         0.         0.         0.14117648 0.5176471  0.38431376\n",
      " 0.5294118  0.54901963 0.3137255  0.30588236 0.3137255  0.3254902\n",
      " 0.35686275 0.34509805 0.35686275 0.27450982 0.45882356 0.54901963\n",
      " 0.3254902  0.6313726  0.14117648 0.         0.         0.\n",
      " 0.         0.         0.         0.         0.         0.\n",
      " 0.         0.33333334 0.50980395 0.35686275 0.5372549  0.6117647\n",
      " 0.45882356 0.38431376 0.34509805 0.3647059  0.39607847 0.37647063\n",
      " 0.4156863  0.34509805 0.80392164 0.5294118  0.3647059  0.67058825\n",
      " 0.23137257 0.         0.         0.         0.         0.\n",
      " 0.         0.         0.         0.         0.         0.43529415\n",
      " 0.43529415 0.34509805 0.6117647  0.6117647  0.4784314  0.49803925\n",
      " 0.4156863  0.3647059  0.38431376 0.38431376 0.39607847 0.44705886\n",
      " 1.         0.56078434 0.45882356 0.6509804  0.39607847 0.\n",
      " 0.         0.         0.         0.         0.         0.\n",
      " 0.         0.         0.         0.4666667  0.45882356 0.27450982\n",
      " 0.7019608  0.6627451  0.45882356 0.4784314  0.38431376 0.33333334\n",
      " 0.34509805 0.4156863  0.40784317 0.4666667  0.7137255  0.6117647\n",
      " 0.4784314  0.50980395 0.50980395 0.         0.         0.\n",
      " 0.         0.         0.         0.         0.         0.\n",
      " 0.         0.50980395 0.40784317 0.22352943 0.6        0.6392157\n",
      " 0.45882356 0.43529415 0.29411766 0.34509805 0.35686275 0.4156863\n",
      " 0.3647059  0.40784317 0.49803925 0.44705886 0.427451   0.33333334\n",
      " 0.6313726  0.         0.         0.         0.         0.\n",
      " 0.         0.         0.         0.         0.02745098 0.6117647\n",
      " 0.37647063 0.34509805 0.5176471  0.5686275  0.3647059  0.4784314\n",
      " 0.3137255  0.3254902  0.35686275 0.34509805 0.37647063 0.427451\n",
      " 0.5882353  0.5176471  0.48627454 0.35686275 0.68235296 0.\n",
      " 0.         0.         0.         0.         0.         0.\n",
      " 0.         0.         0.05882353 0.6117647  0.35686275 0.43529415\n",
      " 0.54901963 0.6392157  0.40784317 0.5803922  0.427451   0.37647063\n",
      " 0.4784314  0.427451   0.39607847 0.56078434 0.61960787 0.61960787\n",
      " 0.50980395 0.45882356 0.72156864 0.03921569 0.         0.\n",
      " 0.         0.         0.         0.         0.         0.\n",
      " 0.12156864 0.54901963 0.37647063 0.3137255  0.5686275  0.5372549\n",
      " 0.427451   0.4784314  0.43529415 0.4156863  0.43529415 0.39607847\n",
      " 0.40784317 0.5176471  0.56078434 0.6117647  0.45882356 0.37647063\n",
      " 0.6509804  0.19215688 0.         0.         0.         0.\n",
      " 0.         0.         0.         0.         0.21176472 0.4784314\n",
      " 0.3137255  0.24313727 0.6509804  0.427451   0.34509805 0.44705886\n",
      " 0.3254902  0.3137255  0.35686275 0.39607847 0.40784317 0.38431376\n",
      " 0.5294118  0.5372549  0.43529415 0.29411766 0.5372549  0.29411766\n",
      " 0.         0.         0.         0.         0.         0.\n",
      " 0.         0.         0.4156863  0.54901963 0.44705886 0.427451\n",
      " 0.6117647  0.43529415 0.3137255  0.427451   0.34509805 0.29411766\n",
      " 0.33333334 0.40784317 0.37647063 0.4156863  0.43529415 0.5372549\n",
      " 0.5176471  0.44705886 0.6627451  0.45882356 0.         0.\n",
      " 0.         0.         0.         0.         0.         0.\n",
      " 0.00784314 0.07058824 0.12941177 0.33333334 0.6392157  0.4666667\n",
      " 0.4156863  0.427451   0.427451   0.38431376 0.44705886 0.44705886\n",
      " 0.43529415 0.50980395 0.44705886 0.6901961  0.39607847 0.3254902\n",
      " 0.23137257 0.03921569 0.         0.         0.         0.\n",
      " 0.         0.         0.         0.         0.         0.\n",
      " 0.         0.0509804  0.6509804  0.4666667  0.45882356 0.4156863\n",
      " 0.44705886 0.3647059  0.427451   0.40784317 0.43529415 0.5372549\n",
      " 0.48627454 0.61960787 0.         0.         0.         0.\n",
      " 0.         0.         0.         0.         0.         0.\n",
      " 0.         0.         0.00784314 0.01960784 0.         0.12156864\n",
      " 0.6627451  0.34509805 0.45882356 0.427451   0.34509805 0.3137255\n",
      " 0.33333334 0.3647059  0.4156863  0.4156863  0.45882356 0.6627451\n",
      " 0.         0.         0.00784314 0.         0.         0.\n",
      " 0.         0.         0.         0.         0.         0.\n",
      " 0.         0.00784314 0.         0.10980393 0.6509804  0.34509805\n",
      " 0.37647063 0.38431376 0.3254902  0.3647059  0.39607847 0.40784317\n",
      " 0.40784317 0.35686275 0.44705886 0.6509804  0.         0.\n",
      " 0.00784314 0.         0.         0.         0.         0.\n",
      " 0.         0.         0.         0.         0.         0.00784314\n",
      " 0.         0.07843138 0.67058825 0.45882356 0.35686275 0.40784317\n",
      " 0.45882356 0.44705886 0.4784314  0.45882356 0.40784317 0.45882356\n",
      " 0.50980395 0.6313726  0.03921569 0.         0.01960784 0.\n",
      " 0.         0.         0.         0.         0.         0.\n",
      " 0.         0.         0.         0.00784314 0.         0.10196079\n",
      " 0.6117647  0.45882356 0.40784317 0.427451   0.4666667  0.35686275\n",
      " 0.3647059  0.49803925 0.3647059  0.4784314  0.4784314  0.6313726\n",
      " 0.03921569 0.         0.01960784 0.         0.         0.\n",
      " 0.         0.         0.         0.         0.         0.\n",
      " 0.         0.00784314 0.         0.12941177 0.56078434 0.38431376\n",
      " 0.40784317 0.37647063 0.3254902  0.3254902  0.39607847 0.44705886\n",
      " 0.35686275 0.37647063 0.39607847 0.67058825 0.07058824 0.\n",
      " 0.01960784 0.         0.         0.         0.         0.\n",
      " 0.         0.         0.         0.         0.         0.00784314\n",
      " 0.         0.07843138 0.5803922  0.40784317 0.3647059  0.37647063\n",
      " 0.3647059  0.3647059  0.38431376 0.37647063 0.33333334 0.35686275\n",
      " 0.4156863  0.54901963 0.15294118 0.         0.01960784 0.\n",
      " 0.         0.         0.         0.         0.         0.\n",
      " 0.         0.         0.         0.         0.         0.\n",
      " 0.67058825 0.4784314  0.34509805 0.43529415 0.4784314  0.39607847\n",
      " 0.40784317 0.427451   0.39607847 0.45882356 0.5176471  0.61960787\n",
      " 0.22352943 0.         0.01960784 0.         0.         0.\n",
      " 0.         0.         0.         0.         0.         0.\n",
      " 0.         0.         0.00784314 0.         0.25490198 0.6\n",
      " 0.45882356 0.50980395 0.4784314  0.427451   0.4666667  0.44705886\n",
      " 0.39607847 0.4666667  0.68235296 0.5803922  0.         0.\n",
      " 0.00784314 0.         0.         0.         0.         0.\n",
      " 0.         0.         0.         0.         0.         0.\n",
      " 0.         0.         0.         0.0509804  0.14117648 0.20392159\n",
      " 0.3647059  0.35686275 0.35686275 0.3254902  0.3254902  0.25490198\n",
      " 0.16078432 0.         0.         0.         0.00784314 0.\n",
      " 0.         0.         0.         0.        ]\n"
     ]
    },
    {
     "data": {
      "text/plain": [
       "<matplotlib.image.AxesImage at 0x7fdf09d795f8>"
      ]
     },
     "execution_count": 6,
     "metadata": {
      "tags": []
     },
     "output_type": "execute_result"
    },
    {
     "data": {
      "image/png": "[encoded data removed]",
      "text/plain": [
       "<Figure size 72x72 with 1 Axes>"
      ]
     },
     "metadata": {
      "tags": []
     },
     "output_type": "display_data"
    }
   ],
   "source": [
    "plt.figure(figsize=(1,1))\n",
    "sample_image = mnist.train.next_batch(1)[0]\n",
    "print(sample_image[0])\n",
    "\n",
    "sample_image = sample_image.reshape([28,28])\n",
    "plt.imshow(sample_image, cmap='Greys')"
   ]
  },
  {
   "cell_type": "code",
   "execution_count": 0,
   "metadata": {
    "colab": {},
    "colab_type": "code",
    "id": "x9bvK3x0vxBL"
   },
   "outputs": [],
   "source": [
    "#Training Parameters \n",
    "\n",
    "learning_rate=0.0002\n",
    "batch_size=128\n",
    "epochs=100000\n",
    "\n",
    "#Network Parameters\n",
    "\n",
    "image_dim=784       # Image size is 28x28\n",
    "gen_hidd_dim=256\n",
    "disc_hidd_dim=256\n",
    "z_noise_dim=100     # Input noise datapoint\n",
    "\n",
    "def xavier_init(shape):\n",
    "  return tf.random_normal(shape = shape, stddev = 1./tf.sqrt(shape[0]/2.0))"
   ]
  },
  {
   "cell_type": "code",
   "execution_count": 8,
   "metadata": {
    "colab": {
     "base_uri": "https://localhost:8080/",
     "height": 90
    },
    "colab_type": "code",
    "id": "iLQClpkf7nhV",
    "outputId": "adf44056-d8da-4bcf-8a77-36d31f32ba3f"
   },
   "outputs": [
    {
     "name": "stdout",
     "output_type": "stream",
     "text": [
      "WARNING:tensorflow:From /usr/local/lib/python3.6/dist-packages/tensorflow/python/framework/op_def_library.py:263: colocate_with (from tensorflow.python.framework.ops) is deprecated and will be removed in a future version.\n",
      "Instructions for updating:\n",
      "Colocations handled automatically by placer.\n"
     ]
    }
   ],
   "source": [
    "# Define weights and bias dictionaries\n",
    "\n",
    "weights= {\"disc_H\" : tf.Variable(xavier_init([image_dim, disc_hidd_dim])),\n",
    "          \"disc_final\" : tf.Variable(xavier_init([disc_hidd_dim, 1])),\n",
    "          \"gen_H\" : tf.Variable(xavier_init([z_noise_dim, gen_hidd_dim])),\n",
    "          \"gen_final\" : tf.Variable(xavier_init([gen_hidd_dim, image_dim]))\n",
    "         }\n",
    "\n",
    "bias= {\"disc_H\" : tf.Variable(xavier_init([disc_hidd_dim])),\n",
    "       \"disc_final\" : tf.Variable(xavier_init([1])),\n",
    "       \"gen_H\" : tf.Variable(xavier_init([gen_hidd_dim])),\n",
    "       \"gen_final\" : tf.Variable(xavier_init([image_dim]))\n",
    "      }\n",
    "\n",
    "\n",
    "\n"
   ]
  },
  {
   "cell_type": "code",
   "execution_count": 0,
   "metadata": {
    "colab": {},
    "colab_type": "code",
    "id": "kPMu2y_Xznqt"
   },
   "outputs": [],
   "source": [
    "#Creating the computational graph\n",
    "#Define Discriminator function\n",
    "\n",
    "def Discriminator(x):\n",
    "  hidden_layer = tf.nn.relu(tf.add(tf.matmul(x, weights[\"disc_H\"]), bias[\"disc_H\"]))\n",
    "  final_layer = tf.add(tf.matmul(hidden_layer, weights[\"disc_final\"]), bias[\"disc_final\"])\n",
    "  disc_output = tf.nn.sigmoid(final_layer)\n",
    "  return final_layer, disc_output\n",
    "\n",
    "\n",
    "\n",
    "# Define generator network \n",
    "def Generator(x):\n",
    "  hidden_layer = tf.nn.relu(tf.add(tf.matmul(x, weights[\"gen_H\"]), bias[\"gen_H\"]))\n",
    "  final_layer = tf.add(tf.matmul(hidden_layer, weights[\"gen_final\"]), bias[\"gen_final\"])\n",
    "  gen_output = tf.nn.sigmoid(final_layer)\n",
    "  return gen_output\n",
    "\n",
    "\n",
    "# Define the placeholders for External Input\n",
    "x_input= tf.placeholder(tf.float32, shape = [None, image_dim], name=\"real_input\")\n",
    "z_input= tf.placeholder(tf.float32, shape = [None, z_noise_dim], name=\"input_noise\")\n",
    "\n",
    "\n",
    "\n",
    "# Building the Generator Network\n",
    "with tf.name_scope(\"Generator\") as scope:\n",
    "  output_Gen = Generator(z_input)\n",
    " \n",
    " \n",
    "\n",
    "# Buidling the Discriminator Network \n",
    "with tf.name_scope(\"Discriminator\") as scope:\n",
    "  real_output1_Disc, real_output_Disc = Discriminator(x_input) # Implements D(x)\n",
    "  fake_output1_Disc, fake_output_Disc = Discriminator(output_Gen) # Implements D(G(x))\n",
    "  \n"
   ]
  },
  {
   "cell_type": "code",
   "execution_count": 0,
   "metadata": {
    "colab": {},
    "colab_type": "code",
    "id": "ZlyEQE9Z6479"
   },
   "outputs": [],
   "source": [
    "#First kind of loss\n",
    "#with tf.name_scope(\"Discriminator_Loss\") as scope:\n",
    " # Discriminator_Loss = -tf.reduce_mean(tf.log(real_output_Disc+0.0001) + tf.log(1.- fake_output_Disc+0.0001))\n",
    "  \n",
    "#with tf.name_scope(\"Generator_Loss\") as scope:\n",
    " # Generator_Loss = -tf.reduce_mean(tf.log(fake_output_Disc+0.0001)) # due to max log(D(G(x)))\n",
    "  \n",
    "# Tensorboard Summary\n",
    "#Disc_loss_total = tf.summary.scalar(\"Disc_Total_loss\", Discriminator_Loss)\n",
    "#Gen_loss_total = tf.summary.scalar(\"Gen_Loss\", Generator_Loss)"
   ]
  },
  {
   "cell_type": "code",
   "execution_count": 0,
   "metadata": {
    "colab": {},
    "colab_type": "code",
    "id": "r-bfeGoK-tji"
   },
   "outputs": [],
   "source": [
    "# Second kind of loss\n",
    "Disc_real_loss = tf.reduce_mean(tf.nn.sigmoid_cross_entropy_with_logits(logits = real_output1_Disc, labels= tf.ones_like(real_output1_Disc)))\n",
    "Disc_fake_loss = tf.reduce_mean(tf.nn.sigmoid_cross_entropy_with_logits(logits = fake_output1_Disc, labels= tf.zeros_like(fake_output1_Disc)))\n",
    "Discriminator_Loss = Disc_real_loss + Disc_fake_loss\n",
    "\n",
    "Generator_loss = tf.reduce_mean(tf.nn.sigmoid_cross_entropy_with_logits(logits = fake_output1_Disc, labels= tf.ones_like(fake_output1_Disc)))\n",
    "\n",
    "#Tensorboard Summary\n",
    "Disc_loss_real_summary = tf.summary.scalar(\"Disc_loss_real\", Disc_real_loss)\n",
    "Disc_loss_fake_summary = tf.summary.scalar(\"Disc_loss_fake\", Disc_fake_loss)\n",
    "Disc_loss_summary = tf.summary.scalar(\"Disc_Total_Loss\", Discriminator_Loss)\n",
    "\n",
    "Disc_loss_total = tf.summary.merge([Disc_loss_real_summary, Disc_loss_fake_summary])\n",
    "Gen_loss_total = tf.summary.scalar(\"Gen_Loss\", Generator_loss)\n"
   ]
  },
  {
   "cell_type": "code",
   "execution_count": 0,
   "metadata": {
    "colab": {},
    "colab_type": "code",
    "id": "gc6elx5X9Xzk"
   },
   "outputs": [],
   "source": [
    "# Define the variables\n",
    "\n",
    "Generator_var = [weights[\"gen_H\"], weights[\"gen_final\"], bias[\"gen_H\"], bias[\"gen_final\"]]\n",
    "Discriminator_var = [weights[\"disc_H\"], weights[\"disc_final\"], bias[\"disc_H\"], bias[\"disc_final\"]]"
   ]
  },
  {
   "cell_type": "code",
   "execution_count": 0,
   "metadata": {
    "colab": {},
    "colab_type": "code",
    "id": "AkkNIaCXG4Lx"
   },
   "outputs": [],
   "source": [
    "#Define the optimizer \n",
    "\n",
    "with tf.name_scope(\"Optimizer_Discriminator\") as scope:\n",
    "  Discriminator_optimize = tf.train.AdamOptimizer(learning_rate= learning_rate).minimize(Discriminator_Loss, var_list= Discriminator_var)\n",
    "  \n",
    "with tf.name_scope(\"Optimizer_Generator\") as scope:\n",
    "  Generator_optimize = tf.train.AdamOptimizer(learning_rate=learning_rate).minimize(Generator_loss, var_list= Generator_var)"
   ]
  },
  {
   "cell_type": "code",
   "execution_count": 16,
   "metadata": {
    "colab": {
     "base_uri": "https://localhost:8080/",
     "height": 906
    },
    "colab_type": "code",
    "id": "pnqFL4EyHoFG",
    "outputId": "c0424dea-8a68-4bd0-a3fc-7a8d48561a05"
   },
   "outputs": [
    {
     "name": "stdout",
     "output_type": "stream",
     "text": [
      "Steps: 0 : Generator Loss: 0.3209115266799927, Discriminator Loss: 1.968876838684082\n",
      "Steps: 2000 : Generator Loss: 4.933677673339844, Discriminator Loss: 0.036030448973178864\n",
      "Steps: 4000 : Generator Loss: 2.711879014968872, Discriminator Loss: 0.35391300916671753\n",
      "Steps: 6000 : Generator Loss: 2.8958358764648438, Discriminator Loss: 0.24278205633163452\n",
      "Steps: 8000 : Generator Loss: 2.8638534545898438, Discriminator Loss: 0.4283747673034668\n",
      "Steps: 10000 : Generator Loss: 2.6314687728881836, Discriminator Loss: 0.4844774901866913\n",
      "Steps: 12000 : Generator Loss: 1.8808499574661255, Discriminator Loss: 0.5757508873939514\n",
      "Steps: 14000 : Generator Loss: 2.298978090286255, Discriminator Loss: 0.4740949273109436\n",
      "Steps: 16000 : Generator Loss: 2.483309030532837, Discriminator Loss: 0.5018972158432007\n",
      "Steps: 18000 : Generator Loss: 2.6992921829223633, Discriminator Loss: 0.4968612790107727\n",
      "Steps: 20000 : Generator Loss: 2.389803647994995, Discriminator Loss: 0.5776816010475159\n",
      "Steps: 22000 : Generator Loss: 2.336005449295044, Discriminator Loss: 0.6903157234191895\n",
      "Steps: 24000 : Generator Loss: 2.446044921875, Discriminator Loss: 0.6078481674194336\n",
      "Steps: 26000 : Generator Loss: 2.555086374282837, Discriminator Loss: 0.5521348118782043\n",
      "Steps: 28000 : Generator Loss: 2.629849433898926, Discriminator Loss: 0.7643261551856995\n",
      "Steps: 30000 : Generator Loss: 2.233715295791626, Discriminator Loss: 0.6361821293830872\n",
      "Steps: 32000 : Generator Loss: 2.044156074523926, Discriminator Loss: 0.6895183324813843\n",
      "Steps: 34000 : Generator Loss: 1.862745761871338, Discriminator Loss: 0.8576368689537048\n",
      "Steps: 36000 : Generator Loss: 2.030179500579834, Discriminator Loss: 0.8429673910140991\n",
      "Steps: 38000 : Generator Loss: 1.9061517715454102, Discriminator Loss: 1.055990219116211\n",
      "Steps: 40000 : Generator Loss: 1.8589938879013062, Discriminator Loss: 0.7094371318817139\n",
      "Steps: 42000 : Generator Loss: 2.1740097999572754, Discriminator Loss: 0.5559598207473755\n",
      "Steps: 44000 : Generator Loss: 2.4328434467315674, Discriminator Loss: 0.7259472608566284\n",
      "Steps: 46000 : Generator Loss: 2.178687810897827, Discriminator Loss: 0.5634652376174927\n",
      "Steps: 48000 : Generator Loss: 1.6376041173934937, Discriminator Loss: 1.1644455194473267\n",
      "Steps: 50000 : Generator Loss: 2.2634992599487305, Discriminator Loss: 0.6632977724075317\n",
      "Steps: 52000 : Generator Loss: 2.231750965118408, Discriminator Loss: 0.7588890790939331\n",
      "Steps: 54000 : Generator Loss: 2.2261099815368652, Discriminator Loss: 1.0788602828979492\n",
      "Steps: 56000 : Generator Loss: 1.927817940711975, Discriminator Loss: 0.7090896964073181\n",
      "Steps: 58000 : Generator Loss: 1.9670605659484863, Discriminator Loss: 0.8406999111175537\n",
      "Steps: 60000 : Generator Loss: 1.5870914459228516, Discriminator Loss: 0.7548245191574097\n",
      "Steps: 62000 : Generator Loss: 1.9668594598770142, Discriminator Loss: 0.7709733247756958\n",
      "Steps: 64000 : Generator Loss: 1.9961360692977905, Discriminator Loss: 0.7557730674743652\n",
      "Steps: 66000 : Generator Loss: 2.621760129928589, Discriminator Loss: 0.7286168336868286\n",
      "Steps: 68000 : Generator Loss: 2.5257201194763184, Discriminator Loss: 0.6442871689796448\n",
      "Steps: 70000 : Generator Loss: 2.6513237953186035, Discriminator Loss: 0.9337667226791382\n",
      "Steps: 72000 : Generator Loss: 2.374049663543701, Discriminator Loss: 0.9402825236320496\n",
      "Steps: 74000 : Generator Loss: 2.2146167755126953, Discriminator Loss: 0.973614513874054\n",
      "Steps: 76000 : Generator Loss: 2.0238142013549805, Discriminator Loss: 0.7009906768798828\n",
      "Steps: 78000 : Generator Loss: 2.5421509742736816, Discriminator Loss: 1.0038608312606812\n",
      "Steps: 80000 : Generator Loss: 2.173248052597046, Discriminator Loss: 0.7736294269561768\n",
      "Steps: 82000 : Generator Loss: 1.9590392112731934, Discriminator Loss: 0.7337489128112793\n",
      "Steps: 84000 : Generator Loss: 2.010049343109131, Discriminator Loss: 0.9472955465316772\n",
      "Steps: 86000 : Generator Loss: 2.1499276161193848, Discriminator Loss: 0.8364800214767456\n",
      "Steps: 88000 : Generator Loss: 1.7530721426010132, Discriminator Loss: 1.2319350242614746\n",
      "Steps: 90000 : Generator Loss: 1.9699681997299194, Discriminator Loss: 1.0129432678222656\n",
      "Steps: 92000 : Generator Loss: 1.6814755201339722, Discriminator Loss: 1.086241602897644\n",
      "Steps: 94000 : Generator Loss: 2.4410603046417236, Discriminator Loss: 1.245408535003662\n",
      "Steps: 96000 : Generator Loss: 1.5767452716827393, Discriminator Loss: 1.0014464855194092\n",
      "Steps: 98000 : Generator Loss: 2.15273118019104, Discriminator Loss: 0.8602322340011597\n"
     ]
    }
   ],
   "source": [
    "# Initialize the variables\n",
    "init = tf.global_variables_initializer()\n",
    "\n",
    "sess=tf.Session()\n",
    "sess.run(init)\n",
    "writer = tf.summary.FileWriter(\"./log\", sess.graph)\n",
    "\n",
    "for epoch in range(epochs):\n",
    "  X_batch, _ = mnist.train.next_batch(batch_size)\n",
    "  \n",
    "  # Generate noise to feed the discriminator\n",
    "  z_noise = np.random.uniform(-1.,1., size = [batch_size, z_noise_dim])\n",
    "  _, Disc_loss_epoch= sess.run([Discriminator_optimize, Discriminator_Loss], feed_dict = {x_input:X_batch, z_input:z_noise})\n",
    "  _, Gen_loss_epoch = sess.run([Generator_optimize, Generator_loss], feed_dict = {z_input:z_noise}) \n",
    "  \n",
    "  \n",
    "  # Running the Discriminator summary\n",
    "  summary_Disc_Loss = sess.run(Disc_loss_total, feed_dict={x_input:X_batch, z_input:z_noise})\n",
    "  \n",
    "  \n",
    "  # Adding the Discriminator summary\n",
    "  writer.add_summary(summary_Disc_Loss, epoch)\n",
    "  \n",
    "  # Running the Generator summary\n",
    "  summary_Gen_Loss = sess.run(Gen_loss_total, feed_dict={z_input:z_noise})\n",
    "  \n",
    "  \n",
    "  #Adding the Generator summary\n",
    "  writer.add_summary(summary_Gen_Loss, epoch)\n",
    "  \n",
    "  if epoch % 2000 ==0:\n",
    "    print(\"Steps: {0} : Generator Loss: {1}, Discriminator Loss: {2}\".format(epoch, Gen_loss_epoch, Disc_loss_epoch))\n",
    "  "
   ]
  },
  {
   "cell_type": "code",
   "execution_count": 19,
   "metadata": {
    "colab": {
     "base_uri": "https://localhost:8080/",
     "height": 378
    },
    "colab_type": "code",
    "id": "Utig48v1xMU6",
    "outputId": "b95f34ad-7db1-41a0-f027-5f3876e9cf2b"
   },
   "outputs": [
    {
     "data": {
      "image/png": "[encoded data removed]",
      "text/plain": [
       "<Figure size 432x432 with 1 Axes>"
      ]
     },
     "metadata": {
      "tags": []
     },
     "output_type": "display_data"
    }
   ],
   "source": [
    "#Testing\n",
    "# Generate images from noise, using the generator network \n",
    "\n",
    "n=6\n",
    "canvas = np.empty((28*n, 28*n))\n",
    "for i in range(n):\n",
    "  #Noise input\n",
    "  z_noise= np.random.uniform(-1.,1.,size= [batch_size, z_noise_dim])\n",
    "   #Generate image from noise\n",
    "  g = sess.run(output_Gen, feed_dict={z_input: z_noise})\n",
    "   #Reverse colors for better display\n",
    "  g = -1 *(g-1)\n",
    "  for j in range(n):\n",
    "    # Draw the generated digits\n",
    "    canvas[i * 28:(i+1) *28, j * 28:(j+1) *28] = g[j].reshape([28,28])\n",
    "    \n",
    "plt.figure(figsize=(n,n))\n",
    "plt.imshow(canvas, origin=\"upper\", cmap=\"gray\")\n",
    "plt.show()"
   ]
  }
 ],
 "metadata": {
  "accelerator": "GPU",
  "colab": {
   "collapsed_sections": [],
   "name": "GAN.ipynb",
   "provenance": [],
   "version": "0.3.2"
  },
  "kernelspec": {
   "display_name": "Python 3",
   "language": "python",
   "name": "python3"
  },
  "language_info": {
   "codemirror_mode": {
    "name": "ipython",
    "version": 3
   },
   "file_extension": ".py",
   "mimetype": "text/x-python",
   "name": "python",
   "nbconvert_exporter": "python",
   "pygments_lexer": "ipython3",
   "version": "3.7.3"
  }
 },
 "nbformat": 4,
 "nbformat_minor": 1
}
